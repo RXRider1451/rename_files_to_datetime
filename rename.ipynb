{
 "cells": [
  {
   "cell_type": "code",
   "execution_count": null,
   "metadata": {},
   "outputs": [],
   "source": [
    "import os\n",
    "import datetime\n",
    "from PIL import Image\n",
    "import PIL.ExifTags"
   ]
  },
  {
   "cell_type": "code",
   "execution_count": 2,
   "metadata": {},
   "outputs": [],
   "source": [
    "def getOriginalDate(file):\n",
    "    try:\n",
    "        with Image.open(file) as img:\n",
    "            exif = {\n",
    "                PIL.ExifTags.TAGS[k]: v\n",
    "                for k, v in img._getexif().items()\n",
    "                if k in PIL.ExifTags.TAGS\n",
    "            }\n",
    "            #print(exif['DateTimeOriginal'])\n",
    "\n",
    "        temp = exif['DateTimeOriginal'].split(' ')\n",
    "        date = temp[0].split(':')\n",
    "        time = temp[1].split(':')\n",
    "        return datetime.datetime(int(date[0]),int(date[1]),int(date[2]),int(time[0]),int(time[1]),int(time[2])).strftime(\"%Y_%m_%d_%H_%M_%S\")\n",
    "    except:\n",
    "        return datetime.datetime.fromtimestamp(os.path.getmtime(file)).strftime(\"%Y_%m_%d_%H_%M_%S\")"
   ]
  },
  {
   "cell_type": "code",
   "execution_count": 3,
   "metadata": {},
   "outputs": [],
   "source": [
    "# Rename files\n",
    "def renameFiles(files, folder_path, logfile):\n",
    "    for file in files:\n",
    "        if os.path.isdir(os.path.join(folder_path,file)):\n",
    "            print('Entering Subdirectory: ' + os.path.join(folder_path, file))\n",
    "            renameFiles(os.listdir(os.path.join(folder_path, file)),os.path.join(folder_path, file),logfile)\n",
    "            continue\n",
    "\n",
    "        # Get file extension\n",
    "        tmp = file.split('.')\n",
    "        if len(tmp)>1:\n",
    "            file_extension = \".\"+tmp[1]\n",
    "        else:\n",
    "            file_extension = \"\"\n",
    "\n",
    "        # Get date formatted name for file\n",
    "        try:\n",
    "            new_name = getOriginalDate(os.path.join(folder_path,file))\n",
    "        except:\n",
    "            logfile.write(f\"!!!!! FAILED TO RENAME FILE @ {os.path.join(folder_path, file)} - ISSUE GETTING DATE !!!!!\\n\")\n",
    "            print(f\"FAILED TO RENAME {os.path.join(folder_path, file)} - ISSUE GETTING DATE\\n\")\n",
    "            continue\n",
    "\n",
    "        # Combine name with file extension\n",
    "        new_file = new_name+file_extension\n",
    "\n",
    "        # If the name isn't changing, skip\n",
    "        if file == new_file:\n",
    "            logfile.write(f\"Skipping {os.path.join(folder_path, file)}\\n\")\n",
    "            continue\n",
    "\n",
    "        # Handle FileExistsError\n",
    "        copy_no = 1\n",
    "        while os.path.exists(os.path.join(folder_path,new_file)):\n",
    "            new_file = new_name+f' ({copy_no})'+file_extension\n",
    "            copy_no += 1\n",
    "\n",
    "        # Rename file\n",
    "        try:\n",
    "            os.rename(os.path.join(folder_path, file), os.path.join(folder_path, new_file))\n",
    "        except:\n",
    "            logfile.write(f\"!!!!! FAILED TO RENAME FILE @ {os.path.join(folder_path, file)} - RENAME OPERATION FAILED !!!!!\\n\")\n",
    "            print(f\"FAILED TO RENAME {os.path.join(folder_path, file)} - RENAME OPERATION FAILED\\n\")\n",
    "            continue\n",
    "\n",
    "        # Log file name change\n",
    "        logfile.write(os.path.join(folder_path,file)+\"  ---->  \" +os.path.join(folder_path,new_file)+\"\\n\")\n"
   ]
  },
  {
   "cell_type": "code",
   "execution_count": null,
   "metadata": {},
   "outputs": [],
   "source": [
    "FOLDER_PATH = r'E:\\Pictures\\Photo Collection\\Cars' # Get path to files \n",
    "files = os.listdir(FOLDER_PATH) # Get files \n",
    "\n",
    "LOG_FOLDER = 'Logs'\n",
    "if not os.path.exists(LOG_FOLDER):\n",
    "    os.mkdir(LOG_FOLDER)\n",
    "\n",
    "# Log files and corresponding modification dates\n",
    "log_file_name = datetime.datetime.now().strftime(\"%Y_%m_%d_%H_%M_%S\")+\".txt\"\n",
    "\n",
    "with open(os.path.join(LOG_FOLDER, log_file_name),\"a\") as logfile:\n",
    "    renameFiles(files,FOLDER_PATH,logfile)\n",
    "                \n"
   ]
  }
 ],
 "metadata": {
  "kernelspec": {
   "display_name": "base",
   "language": "python",
   "name": "python3"
  },
  "language_info": {
   "codemirror_mode": {
    "name": "ipython",
    "version": 3
   },
   "file_extension": ".py",
   "mimetype": "text/x-python",
   "name": "python",
   "nbconvert_exporter": "python",
   "pygments_lexer": "ipython3",
   "version": "3.11.7"
  }
 },
 "nbformat": 4,
 "nbformat_minor": 2
}
